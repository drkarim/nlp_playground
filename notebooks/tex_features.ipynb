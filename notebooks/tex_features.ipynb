{
  "nbformat_minor": 1, 
  "nbformat": 4, 
  "cells": [
    {
      "source": [
        "#%%\n", 
        "from sklearn.feature_extraction.text import CountVectorizer\n", 
        "from nltk.tokenize import RegexpTokenizer\n", 
        "from sklearn.model_selection import train_test_split\n", 
        "\n", 
        "\n", 
        "#%%\n", 
        "import pandas as pd\n", 
        "data=pd.read_csv('train.tsv', sep='\\t')\n", 
        "data.head()\n", 
        "data.info()\n", 
        "data.Sentiment.value_counts()\n", 
        "\n", 
        "#%%\n", 
        "import matplotlib.pyplot as plt\n", 
        "Sentiment_count=data.groupby('Sentiment').count()\n", 
        "plt.bar(Sentiment_count.index.values, Sentiment_count['Phrase'])\n", 
        "plt.xlabel('Review Sentiments')\n", 
        "plt.ylabel('Number of Review')\n", 
        "plt.show()\n", 
        "\n", 
        "#%%\n", 
        "#tokenizer to remove unwanted elements from out data like symbols and numbers\n", 
        "token = RegexpTokenizer(r'[a-zA-Z0-9]+')\n", 
        "cv = CountVectorizer(lowercase=True,stop_words='english',ngram_range = (1,1),tokenizer = token.tokenize)\n", 
        "text_counts= cv.fit_transform(data['Phrase'])\n", 
        "\n", 
        "#%%\n", 
        "# Feature Generation using Bag of Words\n", 
        "from sklearn.model_selection import train_test_split\n", 
        "X_train, X_test, y_train, y_test = train_test_split(\n", 
        "    text_counts, data['Sentiment'], test_size=0.3, random_state=1)"
      ], 
      "cell_type": "code", 
      "execution_count": null, 
      "outputs": [], 
      "metadata": {}
    }, 
    {
      "source": [
        "# Now lets build Text Classification Model using BoW features\n", 
        "from sklearn.naive_bayes import MultinomialNB\n", 
        "#Import scikit-learn metrics module for accuracy calculation\n", 
        "from sklearn import metrics\n", 
        "# Model Generation Using Multinomial Naive Bayes\n", 
        "clf = MultinomialNB().fit(X_train, y_train)\n", 
        "predicted= clf.predict(X_test)\n", 
        "print(\"MultinomialNB Accuracy:\",metrics.accuracy_score(y_test, predicted))"
      ], 
      "cell_type": "code", 
      "execution_count": null, 
      "outputs": [], 
      "metadata": {}
    }, 
    {
      "source": [
        "from sklearn.feature_extraction.text import TfidfVectorizer\n", 
        "tf=TfidfVectorizer()\n", 
        "text_tf= tf.fit_transform(data['Phrase'])"
      ], 
      "cell_type": "code", 
      "execution_count": null, 
      "outputs": [], 
      "metadata": {}
    }
  ], 
  "metadata": {
    "kernelspec": {
      "display_name": "Python 3", 
      "name": "python3", 
      "language": "python"
    }, 
    "language_info": {
      "mimetype": "text/x-python", 
      "nbconvert_exporter": "python", 
      "name": "python", 
      "file_extension": ".py", 
      "version": "3.6.1", 
      "pygments_lexer": "ipython3", 
      "codemirror_mode": {
        "version": 3, 
        "name": "ipython"
      }
    }, 
    "anaconda-cloud": {}
  }
}